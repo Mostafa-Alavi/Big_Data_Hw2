{
 "cells": [
  {
   "attachments": {},
   "cell_type": "markdown",
   "metadata": {},
   "source": [
    "# initialize"
   ]
  },
  {
   "cell_type": "code",
   "execution_count": 1,
   "metadata": {},
   "outputs": [],
   "source": [
    "import matplotlib.pyplot as plt"
   ]
  },
  {
   "cell_type": "code",
   "execution_count": 2,
   "metadata": {},
   "outputs": [
    {
     "name": "stdout",
     "output_type": "stream",
     "text": [
      "22/12/17 22:28:10 WARN Utils: Your hostname, mostafa-UX410UQK resolves to a loopback address: 127.0.1.1; using 192.168.0.100 instead (on interface wlp2s0)\n",
      "22/12/17 22:28:10 WARN Utils: Set SPARK_LOCAL_IP if you need to bind to another address\n"
     ]
    },
    {
     "name": "stderr",
     "output_type": "stream",
     "text": [
      "Setting default log level to \"WARN\".\n",
      "To adjust logging level use sc.setLogLevel(newLevel). For SparkR, use setLogLevel(newLevel).\n"
     ]
    },
    {
     "name": "stdout",
     "output_type": "stream",
     "text": [
      "22/12/17 22:28:11 WARN NativeCodeLoader: Unable to load native-hadoop library for your platform... using builtin-java classes where applicable\n"
     ]
    }
   ],
   "source": [
    "from pyspark.sql import SparkSession\n",
    "spark = SparkSession \\\n",
    "    .builder \\\n",
    "    .appName(\"MDA_2021\") \\\n",
    "    .master(\"local[*]\") \\\n",
    "    .getOrCreate()\n",
    "\n",
    "sc=spark.sparkContext"
   ]
  },
  {
   "attachments": {},
   "cell_type": "markdown",
   "metadata": {},
   "source": [
    "# Reading file & Preprocessing"
   ]
  },
  {
   "cell_type": "code",
   "execution_count": 4,
   "metadata": {},
   "outputs": [
    {
     "data": {
      "text/plain": [
       "['DEVICE_CODE,SYSTEM_ID,ORIGINE_CAR_KEY,FINAL_CAR_KEY,CHECK_STATUS_KEY,COMPANY_ID,PASS_DAY_TIME',\n",
       " '200501,81,10477885,10477885,5,161,2021-06-01 03:54:39',\n",
       " '155,81,87625017,87625017,5,161,2021-06-01 04:14:21']"
      ]
     },
     "execution_count": 4,
     "metadata": {},
     "output_type": "execute_result"
    }
   ],
   "source": [
    "rddFromFile = sc.textFile(\"./Sample_Traffic.csv\") # Now you have a RDD with wikipedia posts\n",
    "rddFromFile.take(3)"
   ]
  },
  {
   "attachments": {},
   "cell_type": "markdown",
   "metadata": {},
   "source": [
    "### save header and remove from numerical data"
   ]
  },
  {
   "cell_type": "code",
   "execution_count": 5,
   "metadata": {},
   "outputs": [
    {
     "name": "stderr",
     "output_type": "stream",
     "text": [
      "[Stage 3:>                                                          (0 + 4) / 4]\r"
     ]
    },
    {
     "name": "stdout",
     "output_type": "stream",
     "text": [
      "[['100700838', '283', '20364724', '20364724', '5', '264', '2021-06-01 05:34:52'], ['900151', '283', '20364724', '20364724', '5', '264', '2021-06-01 05:28:56']]\n"
     ]
    },
    {
     "name": "stderr",
     "output_type": "stream",
     "text": [
      "                                                                                \r"
     ]
    }
   ],
   "source": [
    "from itertools import islice\n",
    "\n",
    "def remove_header(splitIndex, iterator):\n",
    "    \n",
    "    if splitIndex == 0 :\n",
    "        \n",
    "        return islice(iterator , 1, len(list(iterator))-1)\n",
    "    else:\n",
    "\n",
    "        return iterator\n",
    "\n",
    "\n",
    "traffic_data_rdd = rddFromFile.map(lambda x:x.split(\",\")).mapPartitionsWithIndex(remove_header)\n",
    "print(traffic_data_rdd.take(2))"
   ]
  },
  {
   "attachments": {},
   "cell_type": "markdown",
   "metadata": {},
   "source": [
    "# A-Priori"
   ]
  },
  {
   "attachments": {},
   "cell_type": "markdown",
   "metadata": {},
   "source": [
    "### basket-items rdd"
   ]
  },
  {
   "cell_type": "code",
   "execution_count": 6,
   "metadata": {},
   "outputs": [],
   "source": [
    "\n",
    "plaque_camera_rdd = traffic_data_rdd.filter(lambda x:(x[4] in [\"1\",\"2\",\"3\",\"5\",\"6\",\"7\"]) and (x[0]!=\"\"))\\\n",
    "    .map(lambda x: ((int(x[3]),x[6].split(\" \")[0]) , (int(x[0]) ,int(x[4])))).map(lambda x:(x[0] , x[1][0]))\n",
    "\n",
    "### maybe it's not needed to filter!\n",
    "# output 1&2\n",
    "## (key = (final_plaque , date) , value = (camera_code , check_status_code))\n",
    "# output 3\n",
    "## (key = (final_plaque , date) , value = camera_code )\n",
    "\n",
    "cameras_lists_rdd = plaque_camera_rdd.groupByKey().mapValues(lambda x: list(set(x))).map(lambda x:x[1]).cache()\n",
    "# output 1\n",
    "## (key = (final_plaque , date) , value = [camera_code1, camera_code2,...]  )\n",
    "# output 2\n",
    "## [[camera_code1, camera_code2,...],[..],... ]\n",
    "\n"
   ]
  },
  {
   "attachments": {},
   "cell_type": "markdown",
   "metadata": {},
   "source": [
    "### baskets_count"
   ]
  },
  {
   "cell_type": "code",
   "execution_count": 7,
   "metadata": {},
   "outputs": [
    {
     "name": "stderr",
     "output_type": "stream",
     "text": [
      "                                                                                \r"
     ]
    },
    {
     "data": {
      "text/plain": [
       "1382709"
      ]
     },
     "execution_count": 7,
     "metadata": {},
     "output_type": "execute_result"
    }
   ],
   "source": [
    "baskets_count =  cameras_lists_rdd.count()\n",
    "baskets_count"
   ]
  },
  {
   "attachments": {},
   "cell_type": "markdown",
   "metadata": {},
   "source": [
    "### one-items"
   ]
  },
  {
   "cell_type": "code",
   "execution_count": 8,
   "metadata": {},
   "outputs": [],
   "source": [
    "one_items_count_rdd = plaque_camera_rdd.map(lambda x:(x[1] ,1)).reduceByKey(lambda x,y:x+y)\n",
    "# output 1\n",
    "## (key = camera_code ,  value = 1 )\n",
    "# output 2\n",
    "## (key = camera_code ,  value = countk )"
   ]
  },
  {
   "attachments": {},
   "cell_type": "markdown",
   "metadata": {},
   "source": [
    "#### histogram of #baskets (transaction) for items(camera)"
   ]
  },
  {
   "cell_type": "code",
   "execution_count": 9,
   "metadata": {},
   "outputs": [
    {
     "name": "stderr",
     "output_type": "stream",
     "text": [
      "                                                                                \r"
     ]
    }
   ],
   "source": [
    "histogram_data = one_items_count_rdd.map(lambda x:x[1]).histogram(10)"
   ]
  },
  {
   "cell_type": "code",
   "execution_count": 11,
   "metadata": {},
   "outputs": [
    {
     "name": "stdout",
     "output_type": "stream",
     "text": [
      "([1.0, 8401.9, 16802.8, 25203.699999999997, 33604.6, 42005.5, 50406.399999999994, 58807.299999999996, 67208.2, 75609.09999999999, 84010], [831, 68, 41, 15, 12, 7, 4, 2, 1, 1])\n"
     ]
    },
    {
     "data": {
      "text/plain": [
       "Text(0, 0.5, 'number of cameras')"
      ]
     },
     "execution_count": 11,
     "metadata": {},
     "output_type": "execute_result"
    },
    {
     "data": {
      "image/png": "[encoded data removed]",
      "text/plain": [
       "<Figure size 640x480 with 1 Axes>"
      ]
     },
     "metadata": {},
     "output_type": "display_data"
    }
   ],
   "source": [
    "print(histogram_data)\n",
    "plt.bar(histogram_data[0][0:-1],histogram_data[1], color ='maroon',width = 8400)\n",
    "plt.yscale('log')\n",
    "plt.xlabel('taradod counts(# baskets) for each camera')\n",
    "plt.ylabel('number of cameras')"
   ]
  },
  {
   "attachments": {},
   "cell_type": "markdown",
   "metadata": {},
   "source": [
    "So we can choose support threshold based on this ! It is rational to choose threshold so that we can introduce the count of most heavy traffic points in order of 100. so I choose threshold=10000."
   ]
  },
  {
   "attachments": {},
   "cell_type": "markdown",
   "metadata": {},
   "source": [
    "#### filter one frequent items"
   ]
  },
  {
   "cell_type": "code",
   "execution_count": 24,
   "metadata": {},
   "outputs": [
    {
     "name": "stdout",
     "output_type": "stream",
     "text": [
      "42\n",
      "[100700864, 100700824, 100700841, 100700881, 900233, 900273, 900185, 900265, 22009977, 900225, 900249, 900217, 900234, 100700866, 900202, 900107, 900259, 900155, 900139, 22010083, 900164, 900212, 900268, 100700804, 100700868, 900244, 900236, 100700845, 100700853, 900269, 900101, 22010061, 900246, 22010118, 900222, 100700862, 900142, 900102, 22010119, 900191, 100700839, 900207]\n"
     ]
    }
   ],
   "source": [
    "# SUPPORT_THRESH_PERCENT = 0.2\n",
    "# SUPPORT_THRESH = SUPPORT_THRESH_PERCENT*baskets_count\n",
    "SUPPORT_THRESH = 25000\n",
    "\n",
    "one_frequent_items = one_items_count_rdd.filter(lambda x:x[1]>=SUPPORT_THRESH).map(lambda x:x[0]).collect()\n",
    "\n",
    "print(len(one_frequent_items))\n",
    "print(one_frequent_items)"
   ]
  },
  {
   "attachments": {},
   "cell_type": "markdown",
   "metadata": {},
   "source": [
    "### Step 2"
   ]
  },
  {
   "attachments": {},
   "cell_type": "markdown",
   "metadata": {},
   "source": [
    "#### k>=2 frequent itemsets"
   ]
  },
  {
   "cell_type": "code",
   "execution_count": 15,
   "metadata": {},
   "outputs": [],
   "source": [
    "def remove_and_sort_replicates(x):\n",
    "    \n",
    "    if(isinstance(x[0], tuple)):\n",
    "        x1 = x[0]\n",
    "        x2 = x[1]\n",
    "\n",
    "    else:\n",
    "        x1 = [x[0]]\n",
    "        x2 = x[1]\n",
    "        \n",
    "    if (any(item == x2 for item in x1) == False):\n",
    "        item_list = list(x1)\n",
    "        item_list.append(x2)\n",
    "        item_list = tuple(sorted(item_list))\n",
    "        return item_list\n",
    "    else:\n",
    "        return x1\n"
   ]
  },
  {
   "cell_type": "code",
   "execution_count": 25,
   "metadata": {},
   "outputs": [
    {
     "name": "stderr",
     "output_type": "stream",
     "text": [
      "[Stage 38:===================================================>  (122 + 4) / 128]\r"
     ]
    },
    {
     "name": "stdout",
     "output_type": "stream",
     "text": [
      "[[100700864, 100700824, 100700841, 100700881, 900233, 900273, 900185, 900265, 22009977, 900225, 900249, 900217, 900234, 100700866, 900202, 900107, 900259, 900155, 900139, 22010083, 900164, 900212, 900268, 100700804, 100700868, 900244, 900236, 100700845, 100700853, 900269, 900101, 22010061, 900246, 22010118, 900222, 100700862, 900142, 900102, 22010119, 900191, 100700839, 900207], [(900212, 900244)]]\n"
     ]
    },
    {
     "name": "stderr",
     "output_type": "stream",
     "text": [
      "                                                                                \r"
     ]
    }
   ],
   "source": [
    "\n",
    "frequent_itemset = []\n",
    "\n",
    "\n",
    "k=2\n",
    "\n",
    "one_frequent_items_rdd = sc.parallelize(one_frequent_items)\n",
    "# output \n",
    "## [frequent_code1, frequent_code2 ,..frequent_codem]\n",
    "    \n",
    "k_iad_frequent_items = one_frequent_items\n",
    "\n",
    "while(len(k_iad_frequent_items)!=0):#\n",
    "\n",
    "    frequent_itemset.append(k_iad_frequent_items)\n",
    "    k_iad_frequent_items_rdd = sc.parallelize(k_iad_frequent_items)\n",
    "    k_iad_candidates_rdd = k_iad_frequent_items_rdd.cartesian(one_frequent_items_rdd).map(remove_and_sort_replicates).filter(lambda x:len(x)==k).distinct()\n",
    "    # output 1\n",
    "    ## [((frequent_code1, frequent_code1),..frequent_codem),((frequent_code1, frequent_code2),..frequent_codem) ,..., ((frequent_code2, frequent_code1),..frequent_codem),...]\n",
    "    # output 2\n",
    "    ## [(frequent_code1, frequent_code2 ,...,frequent_codem),(frequent_code1, frequent_code3,..frequent_codem) ,...]\n",
    "\n",
    "    k_iad_frequent_items_rdd = k_iad_candidates_rdd.cartesian(cameras_lists_rdd).filter(lambda x: all(frequent_item in x[1] for frequent_item in x[0]))\\\n",
    "        .map(lambda x:(x[0],1)).reduceByKey(lambda x,y:x+y).filter(lambda x:x[1]>=SUPPORT_THRESH).map(lambda x:x[0])\n",
    "    \n",
    "    # output 1&2\n",
    "    ## [((frequent_code1, frequent_code2,...,frequent_codem),[camera_code1, camera_code2,...]),((frequent_code1, frequent_code3,...,frequent_codem),[camera_code1, camera_code2,...]) ,...]\n",
    "    # output 2\n",
    "    ## [((frequent_code1, frequent_code2,...,frequent_codem),[camera_code1, camera_code2,...]),((frequent_code1, frequent_code3,...,frequent_codem),[camera_code1, camera_code2,...]) ,...]\n",
    "    # output 3\n",
    "    ## [((frequent_code1, frequent_code2,...,frequent_codem),1),((frequent_code1, frequent_code3,...,frequent_codem),1) ,...]\n",
    "    # output 4 &5\n",
    "    ## [((frequent_code1, frequent_code2,...,frequent_codem),countk),((frequent_code1, frequent_code3,...,frequent_codem),countk) ,...]\n",
    "    # output 6\n",
    "    ## [(frequent_code1, frequent_code2,...,frequent_codem),(frequent_code1, frequent_code3,...,frequent_codem) ,...]\n",
    "\n",
    "    k_iad_frequent_items = k_iad_frequent_items_rdd.collect()\n",
    "    \n",
    "\n",
    "    k +=1\n",
    "\n",
    "print(frequent_itemset)\n",
    "\n"
   ]
  },
  {
   "attachments": {},
   "cell_type": "markdown",
   "metadata": {},
   "source": [
    "# SON algorithm"
   ]
  },
  {
   "cell_type": "code",
   "execution_count": 26,
   "metadata": {},
   "outputs": [],
   "source": [
    "Num_partitions = cameras_lists_rdd.getNumPartitions()"
   ]
  },
  {
   "cell_type": "code",
   "execution_count": 27,
   "metadata": {},
   "outputs": [],
   "source": [
    "from itertools import product\n",
    "\n",
    "\n",
    "\n",
    "\n",
    "def get_local_frequent_itemsets(iterator):\n",
    "    \n",
    "    def filter_replicates(product_list ,k):\n",
    "\n",
    "\n",
    "        item_list = []\n",
    "\n",
    "        for product_item in product_list:\n",
    "            \n",
    "            \n",
    "            if(isinstance(product_item[0], tuple)):\n",
    "                x1 = list(product_item[0])\n",
    "                x2 = [product_item[1]]\n",
    "\n",
    "            else:\n",
    "                x1 = [product_item[0]]\n",
    "                x2 = [product_item[1]]\n",
    "\n",
    "\n",
    "            \n",
    "            \n",
    "            item = set().union(sorted(x1 + x2))\n",
    "            \n",
    "            if len(item) == k :\n",
    "                item_list.append(tuple(item))\n",
    "        \n",
    "        ## returns a set\n",
    "        return set().union(item_list)\n",
    "\n",
    "    \n",
    "    basket_lists = list(iterator)\n",
    "    \n",
    "    # basket_numbers = len(basket_lists)\n",
    "\n",
    "    all_baskets = []\n",
    "\n",
    "    for basket_list in basket_lists:\n",
    "        all_baskets += basket_list \n",
    "\n",
    "    unique_items = set().union(all_baskets)\n",
    "\n",
    "\n",
    "    one_frequent_items_in_local_baskets = []\n",
    "\n",
    "\n",
    "    for item in unique_items:\n",
    "        \n",
    "        item_counter = 0\n",
    "        \n",
    "        for basket in basket_lists:\n",
    "            \n",
    "            if item in  basket:\n",
    "                item_counter+=1\n",
    "        \n",
    "        if item_counter>= SUPPORT_THRESH//Num_partitions:\n",
    "            one_frequent_items_in_local_baskets.append(item)\n",
    "\n",
    "\n",
    "\n",
    "\n",
    "    frequent_itemsets = []    \n",
    "\n",
    "\n",
    "    k_iad_frequent_candidates = one_frequent_items_in_local_baskets\n",
    "    k=2\n",
    "    \n",
    "    while len(k_iad_frequent_candidates)!=0:\n",
    "\n",
    "        frequent_itemsets.append(k_iad_frequent_candidates)\n",
    "        k_iad_candidates = filter_replicates(list(product(k_iad_frequent_candidates ,one_frequent_items_in_local_baskets)) , k)\n",
    "        \n",
    "        # ouput\n",
    "        ## set of k_iad_candidates {(code1,..,codek) ,(codem ,... code m+k-1) ,...}\n",
    "\n",
    "        k_iad_frequent_candidates = []\n",
    "\n",
    "        for k_iad_candidate in k_iad_candidates:\n",
    "            \n",
    "            k_iad_candidate_counter = 0\n",
    "\n",
    "            for basket in basket_lists:\n",
    "            \n",
    "                if all(frquent_one_item in basket for frquent_one_item in k_iad_candidate):\n",
    "                    \n",
    "                    k_iad_candidate_counter +=1\n",
    "                    \n",
    "        \n",
    "\n",
    "            if k_iad_candidate_counter >= SUPPORT_THRESH//Num_partitions:\n",
    "\n",
    "                k_iad_frequent_candidates.append(k_iad_candidate)\n",
    "                \n",
    "        k+=1   \n",
    "        \n",
    "    \n",
    "\n",
    "    return frequent_itemsets\n",
    "            \n",
    "\n"
   ]
  },
  {
   "cell_type": "code",
   "execution_count": 28,
   "metadata": {},
   "outputs": [
    {
     "name": "stderr",
     "output_type": "stream",
     "text": [
      "[Stage 40:==================================================>       (7 + 1) / 8]\r"
     ]
    },
    {
     "name": "stdout",
     "output_type": "stream",
     "text": [
      "[[22010119, 100700804, 100700824, 100700841, 100700845, 100700853, 100700862, 100700866, 100700868, 900101, 900102, 900107, 900139, 900142, 900155, 900164, 900191, 900202, 900207, 900212, 900222, 900225, 900234, 900236, 900244, 900246, 900249, 900265, 900268, 900269], [(900244, 900212)], [22010119, 100700804, 100700824, 100700841, 100700845, 100700853, 100700862, 100700866, 100700868, 900101, 900102, 900107, 900139, 900142, 900155, 900164, 900191, 900202, 900207, 900212, 900225, 900222, 900234, 900236, 900244, 900246, 900249, 900265, 900268, 900269], [(900244, 900212)], [22010119, 100700804, 100700824, 100700839, 100700841, 100700845, 100700853, 100700862, 100700866, 100700868, 900101, 900102, 900107, 900139, 900142, 900155, 900164, 900191, 900202, 900207, 900212, 900222, 900225, 900234, 900236, 900244, 900246, 900249, 900265, 900268, 900269], [(900244, 900212)], [22010119, 100700804, 100700824, 100700841, 100700845, 100700853, 100700862, 100700866, 100700868, 900101, 900102, 900107, 900139, 900142, 900155, 900164, 900191, 900202, 900207, 900212, 900222, 900225, 900234, 900236, 900244, 900246, 900249, 900259, 900265, 900268, 900269], [(900244, 900212)], [22010119, 100700804, 100700824, 100700839, 100700841, 100700845, 100700853, 100700862, 100700866, 100700868, 900101, 900102, 900107, 900139, 900142, 900155, 900164, 900191, 900202, 900207, 900212, 900222, 900225, 900234, 900236, 900244, 900246, 900249, 900265, 900268, 900269], [(900244, 900212)], [22010119, 100700804, 100700824, 100700841, 100700845, 100700853, 100700862, 100700866, 100700868, 900101, 900102, 900107, 900139, 900142, 900155, 900164, 900191, 900202, 900207, 900212, 900222, 900225, 900234, 900236, 900244, 900246, 900249, 900259, 900265, 900268, 900269], [(900244, 900212)], [22010119, 100700804, 100700824, 100700841, 100700845, 100700853, 100700862, 100700866, 100700868, 900101, 900102, 900107, 900139, 900142, 900155, 900164, 900191, 900202, 900207, 900212, 900222, 900225, 900234, 900236, 900244, 900246, 900249, 900265, 900268, 900269], [(900244, 900212)], [22010119, 100700804, 100700824, 100700841, 100700845, 100700853, 100700862, 100700866, 100700868, 900101, 900102, 900107, 900139, 900142, 900155, 900164, 900191, 900202, 900207, 900212, 900222, 900225, 900234, 900236, 900244, 900246, 900249, 900265, 900268, 900269], [(900244, 900212)]]\n"
     ]
    },
    {
     "name": "stderr",
     "output_type": "stream",
     "text": [
      "                                                                                \r"
     ]
    }
   ],
   "source": [
    "\n",
    "local_frequent_itemsets = cameras_lists_rdd.mapPartitions(get_local_frequent_itemsets).collect()  \n",
    "\n",
    "print(local_frequent_itemsets)\n",
    "\n",
    "# input\n",
    "## [[camera_code1, camera_code2,...],[..],... ]"
   ]
  },
  {
   "cell_type": "code",
   "execution_count": 29,
   "metadata": {},
   "outputs": [
    {
     "name": "stdout",
     "output_type": "stream",
     "text": [
      "{900225, 100700804, 900101, 900102, 22010119, 900234, 900107, 900236, 900244, 900246, (900244, 900212), 100700824, 900249, 900259, 100700839, 100700841, 900265, 900139, 900268, 100700845, 900142, 900269, 100700853, 900155, 100700862, 100700866, 100700868, 900164, 900191, 900202, 900207, 900212, 900222}\n"
     ]
    }
   ],
   "source": [
    "local_frequent_unique_itemsets = set()\n",
    "for sub_list in local_frequent_itemsets:\n",
    "        local_frequent_unique_itemsets = local_frequent_unique_itemsets.union(sub_list)\n",
    "print(local_frequent_unique_itemsets)"
   ]
  },
  {
   "cell_type": "code",
   "execution_count": 21,
   "metadata": {},
   "outputs": [],
   "source": [
    "def check_left_items_exist_in_right_items(x):\n",
    "    \n",
    "    if isinstance(x[0],tuple):\n",
    "        return all([frequent_item in x[1] for frequent_item in x[0]])\n",
    "    else:\n",
    "        return x[0] in x[1]\n"
   ]
  },
  {
   "cell_type": "code",
   "execution_count": 30,
   "metadata": {},
   "outputs": [
    {
     "name": "stderr",
     "output_type": "stream",
     "text": [
      "                                                                                \r"
     ]
    }
   ],
   "source": [
    "\n",
    "\n",
    "global_frequent_itemsets = sc.parallelize(local_frequent_unique_itemsets).map(lambda x:x).cartesian(cameras_lists_rdd)\\\n",
    "        .filter(check_left_items_exist_in_right_items).map(lambda x:(x[0],1))\\\n",
    "                .reduceByKey(lambda x,y:x+y).filter(lambda x:x[1]>=SUPPORT_THRESH).map(lambda x:x[0]).collect()\n",
    "\n",
    "\n",
    "\n",
    "# output\n",
    "## [(freq_item(s) , [camera_code1, camera_code2,...]),(freq_item(s) , [camera_code1, camera_code2,...]),... ]\n",
    "\n"
   ]
  },
  {
   "cell_type": "code",
   "execution_count": 33,
   "metadata": {},
   "outputs": [
    {
     "name": "stdout",
     "output_type": "stream",
     "text": [
      "31\n",
      "[900225, 100700866, 100700804, 100700868, 900164, 900101, 900102, 22010119, 100700841, 900265, 900234, 900202, 900107, 900139, 900236, 900268, 900269, 100700845, 900142, 900207, (900244, 900212), 900244, 900212, 100700853, 900246, 100700824, 900249, 900155, 100700862, 900222, 900191]\n"
     ]
    }
   ],
   "source": [
    "print(len(global_frequent_itemsets))\n",
    "print(global_frequent_itemsets )\n"
   ]
  }
 ],
 "metadata": {
  "kernelspec": {
   "display_name": "Python 3.10.6 64-bit",
   "language": "python",
   "name": "python3"
  },
  "language_info": {
   "codemirror_mode": {
    "name": "ipython",
    "version": 3
   },
   "file_extension": ".py",
   "mimetype": "text/x-python",
   "name": "python",
   "nbconvert_exporter": "python",
   "pygments_lexer": "ipython3",
   "version": "3.10.6"
  },
  "orig_nbformat": 4,
  "vscode": {
   "interpreter": {
    "hash": "916dbcbb3f70747c44a77c7bcd40155683ae19c65e1c03b4aa3499c5328201f1"
   }
  }
 },
 "nbformat": 4,
 "nbformat_minor": 2
}
