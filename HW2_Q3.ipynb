{
 "cells": [
  {
   "cell_type": "code",
   "execution_count": 1,
   "metadata": {},
   "outputs": [
    {
     "name": "stdout",
     "output_type": "stream",
     "text": [
      "22/12/18 14:17:41 WARN Utils: Your hostname, mostafa-UX410UQK resolves to a loopback address: 127.0.1.1; using 192.168.0.100 instead (on interface wlp2s0)\n",
      "22/12/18 14:17:41 WARN Utils: Set SPARK_LOCAL_IP if you need to bind to another address\n"
     ]
    },
    {
     "name": "stderr",
     "output_type": "stream",
     "text": [
      "Setting default log level to \"WARN\".\n",
      "To adjust logging level use sc.setLogLevel(newLevel). For SparkR, use setLogLevel(newLevel).\n"
     ]
    },
    {
     "name": "stdout",
     "output_type": "stream",
     "text": [
      "22/12/18 14:17:42 WARN NativeCodeLoader: Unable to load native-hadoop library for your platform... using builtin-java classes where applicable\n",
      "22/12/18 14:17:43 WARN Utils: Service 'SparkUI' could not bind on port 4040. Attempting port 4041.\n"
     ]
    }
   ],
   "source": [
    "from pyspark.sql import SparkSession\n",
    "spark = SparkSession \\\n",
    "    .builder \\\n",
    "    .appName(\"Q3\") \\\n",
    "    .master(\"local[*]\") \\\n",
    "    .getOrCreate()\n",
    "\n",
    "sc=spark.sparkContext"
   ]
  },
  {
   "cell_type": "code",
   "execution_count": 2,
   "metadata": {},
   "outputs": [
    {
     "name": "stderr",
     "output_type": "stream",
     "text": [
      "                                                                                \r"
     ]
    },
    {
     "data": {
      "text/plain": [
       "['FRO11987 ELE17451 ELE89019 SNA90258 GRO99222 ']"
      ]
     },
     "execution_count": 2,
     "metadata": {},
     "output_type": "execute_result"
    }
   ],
   "source": [
    "rddFromFile = sc.textFile(\"./records.txt\") # Now you have a RDD with wikipedia posts\n",
    "rddFromFile.take(1)"
   ]
  },
  {
   "cell_type": "code",
   "execution_count": 3,
   "metadata": {},
   "outputs": [
    {
     "data": {
      "text/plain": [
       "[['ELE17451', 'FRO11987', 'SNA90258', 'ELE89019', 'GRO99222'],\n",
       " ['ELE17451',\n",
       "  'SNA11465',\n",
       "  'FRO90334',\n",
       "  'SNA80192',\n",
       "  'SNA30755',\n",
       "  'FRO12685',\n",
       "  'GRO12298',\n",
       "  'ELE91550',\n",
       "  'FRO84225',\n",
       "  'ELE26917',\n",
       "  'ELE52966',\n",
       "  'GRO99222']]"
      ]
     },
     "execution_count": 3,
     "metadata": {},
     "output_type": "execute_result"
    }
   ],
   "source": [
    "baskets_rdd = rddFromFile.map(lambda x:list(set().union(x.split())))\n",
    "## [[code1, code2,...],[..],... ]\n",
    "baskets_rdd.take(2)"
   ]
  },
  {
   "cell_type": "code",
   "execution_count": 4,
   "metadata": {},
   "outputs": [
    {
     "data": {
      "text/plain": [
       "31101"
      ]
     },
     "execution_count": 4,
     "metadata": {},
     "output_type": "execute_result"
    }
   ],
   "source": [
    "baskets_count =  baskets_rdd.count()\n",
    "baskets_count"
   ]
  },
  {
   "attachments": {},
   "cell_type": "markdown",
   "metadata": {},
   "source": [
    "# A-priori"
   ]
  },
  {
   "cell_type": "code",
   "execution_count": 5,
   "metadata": {},
   "outputs": [],
   "source": [
    "\n",
    "one_items_count_rdd = baskets_rdd.flatMap(lambda x :[(item , 1) for item in x]).reduceByKey(lambda x,y:x+y)\n",
    "# output \n",
    "## (key = item_code ,  value = countk )"
   ]
  },
  {
   "attachments": {},
   "cell_type": "markdown",
   "metadata": {},
   "source": [
    "## k=1"
   ]
  },
  {
   "cell_type": "code",
   "execution_count": 92,
   "metadata": {},
   "outputs": [
    {
     "name": "stdout",
     "output_type": "stream",
     "text": [
      "141\n"
     ]
    },
    {
     "name": "stderr",
     "output_type": "stream",
     "text": [
      "                                                                                \r"
     ]
    }
   ],
   "source": [
    "SUPPORT_THRESH = 500\n",
    "\n",
    "one_frequent_items_count_rdd = one_items_count_rdd.filter(lambda x:x[1]>=SUPPORT_THRESH)\n",
    "# output \n",
    "## (key = item_code ,  value = countk )\n",
    "one_frequent_items_count = one_frequent_items_count_rdd.map(lambda x:((x[0],),x[1])).collectAsMap()\n",
    "\n",
    "one_frequent_items_rdd = one_frequent_items_count_rdd.map(lambda x:x[0])\n",
    "\n",
    "one_frequent_items = one_frequent_items_rdd.collect()\n",
    "\n",
    "print(len(one_frequent_items))\n"
   ]
  },
  {
   "cell_type": "code",
   "execution_count": 93,
   "metadata": {},
   "outputs": [],
   "source": [
    "frequent_items_count = one_frequent_items_count\n"
   ]
  },
  {
   "cell_type": "code",
   "execution_count": 94,
   "metadata": {},
   "outputs": [],
   "source": [
    "from itertools import permutations\n",
    "\n",
    "def remove_and_sort_replicates(x):\n",
    "    \n",
    "    if(isinstance(x[0], tuple)):\n",
    "        x1 = x[0]\n",
    "        x2 = x[1]\n",
    "\n",
    "    else:\n",
    "        x1 = [x[0]]\n",
    "        x2 = x[1]\n",
    "        \n",
    "    if (any(item == x2 for item in x1) == False):\n",
    "        item_list = list(x1)\n",
    "        item_list.append(x2)\n",
    "        item_list = tuple(sorted(item_list))\n",
    "        return item_list\n",
    "    else:\n",
    "        return x1\n",
    "\n",
    "\n",
    "\n",
    "def generate_rules_and_confidences(tuple_information):\n",
    "    items_tuple , joint_count = tuple_information[0] , tuple_information[1]\n",
    "\n",
    "    k = len(items_tuple)\n",
    "    rules_list =[]\n",
    "    for item in list(permutations(items_tuple,k)):\n",
    "        for j in range(1 ,k ,1):\n",
    "            if item[0:j] in frequent_items_count:\n",
    "                rule = ((item[0:j] , item[j:] ), joint_count/frequent_items_count[item[0:j]])\n",
    "                rules_list.append(rule)\n",
    "\n",
    "\n",
    "\n",
    "    return rules_list\n",
    "\n",
    "\n",
    "\n",
    "\n",
    "\n",
    "    "
   ]
  },
  {
   "attachments": {},
   "cell_type": "markdown",
   "metadata": {},
   "source": [
    "## k=2"
   ]
  },
  {
   "cell_type": "code",
   "execution_count": null,
   "metadata": {},
   "outputs": [],
   "source": [
    "\n",
    "\n",
    "one_frequent_items_rdd = sc.parallelize(one_frequent_items)\n",
    "\n",
    "\n",
    "k=2\n",
    "\n",
    "two_frequent_candidates_rdd = one_frequent_items_rdd.cartesian(one_frequent_items_rdd).map(remove_and_sort_replicates).filter(lambda x:len(x)==k).distinct()\n",
    "# output 1\n",
    "## [((frequent_code1, frequent_code1)),((frequent_code1, frequent_code2)) ,..., ((frequent_code2, frequent_code1)),...]\n",
    "# output 2\n",
    "## [(frequent_code1, frequent_code2 ),(frequent_code1, frequent_code3) ,...]\n",
    "\n",
    "two_frequent_items_count_rdd = two_frequent_candidates_rdd.cartesian(baskets_rdd).filter(lambda x: all(frequent_item in x[1] for frequent_item in x[0]))\\\n",
    "    .map(lambda x:(x[0],1)).reduceByKey(lambda x,y:x+y).filter(lambda x:x[1]>=SUPPORT_THRESH)\n",
    "\n",
    "\n",
    "two_frequent_items_count = two_frequent_items_count_rdd.collectAsMap()\n",
    "frequent_items_count.update(two_frequent_items_count)\n",
    "\n",
    "# output 1&2\n",
    "## [((frequent_code1, frequent_code2),[camera_code1, camera_code2,...]),((frequent_code1, frequent_code3),[camera_code1, camera_code2,...]) ,...]\n",
    "# output 2\n",
    "## [((frequent_code1, frequent_code2),[camera_code1, camera_code2,...]),((frequent_code1, frequent_code3),[camera_code1, camera_code2,...]) ,...]\n",
    "# output 3\n",
    "## [((frequent_code1, frequent_code2),1),((frequent_code1, frequent_code3),1) ,...]\n",
    "# output 4 &5\n",
    "## [((frequent_code1, frequent_code2),countk),((frequent_code1, frequent_code3),countk) ,...]\n",
    "\n",
    "\n",
    "\n"
   ]
  },
  {
   "cell_type": "code",
   "execution_count": null,
   "metadata": {},
   "outputs": [
    {
     "name": "stderr",
     "output_type": "stream",
     "text": [
      "[Stage 104:==============================================>        (27 + 4) / 32]\r"
     ]
    },
    {
     "name": "stdout",
     "output_type": "stream",
     "text": [
      "{(('GRO73461',), ('SNA80324',)): 0.15602443087173792, (('SNA80324',), ('GRO73461',)): 0.18462549277266754, (('DAI62779',), ('FRO40251',)): 0.16049197540122995, (('FRO40251',), ('DAI62779',)): 0.27570213862406595, (('FRO40251',), ('GRO85051',)): 0.3125483122906467, (('GRO85051',), ('FRO40251',)): 0.999176276771005, (('ELE17451',), ('ELE32164',)): 0.1318709677419355, (('ELE32164',), ('ELE17451',)): 0.1792353560154332, (('ELE17451',), ('SNA80324',)): 0.15406451612903227, (('SNA80324',), ('ELE17451',)): 0.19612352168199737, (('DAI75645',), ('GRO73461',)): 0.260233918128655, (('GRO73461',), ('DAI75645',)): 0.19766796224319821, (('DAI62779',), ('ELE17451',)): 0.23878806059697016, (('ELE17451',), ('DAI62779',)): 0.41083870967741937, (('DAI62779',), ('ELE26917',)): 0.09749512524373781, (('ELE26917',), ('DAI62779',)): 0.2835951134380454, (('ELE17451',), ('GRO73461',)): 0.14967741935483872, (('GRO73461',), ('ELE17451',)): 0.16102165463631316, (('DAI43223',), ('ELE32164',)): 0.5511627906976744, (('ELE32164',), ('DAI43223',)): 0.2493861802876184, (('DAI43223',), ('GRO59710',)): 0.39689922480620154, (('GRO59710',), ('DAI43223',)): 0.2554890219560878, (('FRO40251',), ('GRO73461',)): 0.22726101520226746, (('GRO73461',), ('FRO40251',)): 0.24486396446418657, (('DAI62779',), ('DAI75645',)): 0.13229338533073345, (('DAI75645',), ('DAI62779',)): 0.3223684210526316, (('ELE17451',), ('FRO40251',)): 0.17987096774193548, (('FRO40251',), ('ELE17451',)): 0.1795928884308168, (('ELE32164',), ('GRO59710',)): 0.31953700455980355, (('GRO59710',), ('ELE32164',)): 0.4545908183632735, (('GRO21487',), ('GRO73461',)): 0.2983451536643026, (('GRO73461',), ('GRO21487',)): 0.17518045530260967, (('DAI62779',), ('FRO80039',)): 0.08249587520623969, (('FRO80039',), ('DAI62779',)): 0.24630541871921183, (('DAI55148',), ('DAI62779',)): 0.5394871794871795, (('DAI62779',), ('DAI55148',)): 0.07889605519724013, (('DAI85309',), ('ELE99737',)): 0.28739642389882253, (('ELE99737',), ('DAI85309',)): 0.4346965699208443, (('DAI62779',), ('SNA18336',)): 0.07589620518974051, (('SNA18336',), ('DAI62779',)): 0.7136812411847673, (('DAI62779',), ('GRO73461',)): 0.17084145792710365, (('GRO73461',), ('DAI62779',)): 0.3162132148806219, (('DAI75645',), ('ELE17451',)): 0.19992690058479531, (('ELE17451',), ('DAI75645',)): 0.14116129032258065, (('DAI62779',), ('DAI83733',)): 0.087895605219739, (('DAI83733',), ('DAI62779',)): 0.3422897196261682, (('DAI62779',), ('ELE32164',)): 0.1247937603119844, (('ELE32164',), ('DAI62779',)): 0.2918274289722904, (('DAI62779',), ('SNA80324',)): 0.13844307784610768, (('SNA80324',), ('DAI62779',)): 0.3032194480946124, (('DAI62779',), ('GRO59710',)): 0.08414579271036449, (('GRO59710',), ('DAI62779',)): 0.27994011976047906, (('DAI62779',), ('DAI85309',)): 0.13769311534423279, (('DAI85309',), ('DAI62779',)): 0.40034888791975576, (('FRO40251',), ('SNA80324',)): 0.3638237567637207, (('SNA80324',), ('FRO40251',)): 0.46386333771353483, (('DAI75645',), ('FRO40251',)): 0.4583333333333333, (('FRO40251',), ('DAI75645',)): 0.3231125998454007, (('DAI62779',), ('SNA55762',)): 0.08894555272236389, (('SNA55762',), ('DAI62779',)): 0.3602673147023086, (('DAI62779',), ('SNA45677',)): 0.09059547022648867, (('SNA45677',), ('DAI62779',)): 0.2460285132382892, (('DAI62779',), ('ELE92920',)): 0.13154342282885856, (('ELE92920',), ('DAI62779',)): 0.7326649958228906, (('DAI62779',), ('GRO30386',)): 0.1063446827658617, (('GRO30386',), ('DAI62779',)): 0.38532608695652176, (('DAI75645',), ('SNA80324',)): 0.4130116959064328, (('SNA80324',), ('DAI75645',)): 0.3712220762155059, (('DAI62779',), ('SNA93860',)): 0.08054597270136493, (('SNA93860',), ('DAI62779',)): 0.3816631130063966, (('FRO40251',), ('FRO92469',)): 0.21515073434681783, (('FRO92469',), ('FRO40251',)): 0.983510011778563, (('DAI62779',), ('GRO71621',)): 0.08924553772311385, (('GRO71621',), ('DAI62779',)): 0.3098958333333333}\n"
     ]
    },
    {
     "name": "stderr",
     "output_type": "stream",
     "text": [
      "                                                                                \r"
     ]
    }
   ],
   "source": [
    "\n",
    "print(two_frequent_items_count_rdd.flatMap(generate_rules_and_confidences).collectAsMap())\n",
    "\n",
    "# output \n",
    "## [(((frequent_code1,) (frequent_code2,)),confidence),(((frequent_code1,) (frequent_code3,)),confidence) ,...]\n"
   ]
  },
  {
   "attachments": {},
   "cell_type": "markdown",
   "metadata": {},
   "source": [
    "## k=3"
   ]
  },
  {
   "cell_type": "code",
   "execution_count": 81,
   "metadata": {},
   "outputs": [
    {
     "name": "stderr",
     "output_type": "stream",
     "text": [
      "                                                                                \r"
     ]
    }
   ],
   "source": [
    "\n",
    "two_frequent_items_rdd = two_frequent_items_count_rdd.map(lambda x:x[0])\n",
    "\n",
    "\n",
    "k=3\n",
    "\n",
    "three_frequent_candidates_rdd = two_frequent_items_rdd.cartesian(one_frequent_items_rdd).map(remove_and_sort_replicates).filter(lambda x:len(x)==k).distinct()\n",
    "\n",
    "three_frequent_items_count_rdd = three_frequent_candidates_rdd.cartesian(baskets_rdd).filter(lambda x: all(frequent_item in x[1] for frequent_item in x[0]))\\\n",
    "    .map(lambda x:(x[0],1)).reduceByKey(lambda x,y:x+y).filter(lambda x:x[1]>=SUPPORT_THRESH)\n",
    "\n",
    "\n",
    "three_frequent_items_count = three_frequent_items_count_rdd.collectAsMap()\n",
    "frequent_items_count.update(three_frequent_items_count)\n",
    "\n",
    "\n"
   ]
  },
  {
   "cell_type": "code",
   "execution_count": 82,
   "metadata": {},
   "outputs": [
    {
     "data": {
      "text/plain": [
       "{('DAI75645', 'FRO40251', 'SNA80324'): 550}"
      ]
     },
     "execution_count": 82,
     "metadata": {},
     "output_type": "execute_result"
    }
   ],
   "source": [
    "three_frequent_items_count"
   ]
  },
  {
   "cell_type": "code",
   "execution_count": 84,
   "metadata": {},
   "outputs": [
    {
     "data": {
      "text/plain": [
       "{('SNA90258',): 550,\n",
       " ('GRO73461',): 3602,\n",
       " ('DAI22896',): 1219,\n",
       " ('SNA69641',): 599,\n",
       " ('ELE59935',): 1311,\n",
       " ('DAI22177',): 1627,\n",
       " ('ELE66810',): 1697,\n",
       " ('DAI49199',): 664,\n",
       " ('GRO36567',): 832,\n",
       " ('SNA55952',): 1094,\n",
       " ('DAI48891',): 825,\n",
       " ('ELE11111',): 811,\n",
       " ('FRO92261',): 915,\n",
       " ('SNA66979',): 703,\n",
       " ('FRO16142',): 931,\n",
       " ('FRO24098',): 521,\n",
       " ('SNA59903',): 891,\n",
       " ('DAI55911',): 974,\n",
       " ('FRO31317',): 2330,\n",
       " ('SNA72163',): 1090,\n",
       " ('ELE20196',): 545,\n",
       " ('DAI63921',): 1773,\n",
       " ('SNA18336',): 709,\n",
       " ('DAI91290',): 1138,\n",
       " ('ELE12792',): 832,\n",
       " ('ELE86561',): 735,\n",
       " ('GRO85051',): 1214,\n",
       " ('DAI73122',): 566,\n",
       " ('FRO73056',): 728,\n",
       " ('ELE37770',): 630,\n",
       " ('ELE32164',): 2851,\n",
       " ('DAI88807',): 1316,\n",
       " ('FRO66272',): 927,\n",
       " ('SNA80324',): 3044,\n",
       " ('SNA88283',): 865,\n",
       " ('DAI75645',): 2736,\n",
       " ('SNA12663',): 523,\n",
       " ('SNA96271',): 1295,\n",
       " ('ELE49801',): 663,\n",
       " ('GRO50832',): 608,\n",
       " ('GRO68067',): 651,\n",
       " ('FRO85978',): 1918,\n",
       " ('SNA24799',): 504,\n",
       " ('SNA38068',): 811,\n",
       " ('ELE74009',): 1816,\n",
       " ('GRO56726',): 1784,\n",
       " ('FRO89565',): 516,\n",
       " ('ELE38289',): 517,\n",
       " ('ELE87456',): 655,\n",
       " ('FRO75586',): 762,\n",
       " ('ELE56788',): 1345,\n",
       " ('GRO88324',): 715,\n",
       " ('ELE74482',): 1316,\n",
       " ('SNA53220',): 580,\n",
       " ('GRO64900',): 1046,\n",
       " ('GRO71621',): 1920,\n",
       " ('ELE78169',): 558,\n",
       " ('GRO88511',): 855,\n",
       " ('GRO32086',): 856,\n",
       " ('ELE20847',): 818,\n",
       " ('SNA50789',): 588,\n",
       " ('ELE59028',): 673,\n",
       " ('FRO99372',): 505,\n",
       " ('SNA58341',): 525,\n",
       " ('DAI55148',): 975,\n",
       " ('DAI22240',): 597,\n",
       " ('SNA82528',): 594,\n",
       " ('GRO88505',): 521,\n",
       " ('DAI85309',): 2293,\n",
       " ('FRO19221',): 773,\n",
       " ('GRO83463',): 544,\n",
       " ('DAI87448',): 858,\n",
       " ('DAI92600',): 935,\n",
       " ('ELE17451',): 3875,\n",
       " ('GRO99222',): 906,\n",
       " ('ELE26917',): 2292,\n",
       " ('SNA99873',): 2083,\n",
       " ('ELE37798',): 534,\n",
       " ('GRO56989',): 655,\n",
       " ('FRO78087',): 1531,\n",
       " ('GRO94758',): 1489,\n",
       " ('SNA47306',): 695,\n",
       " ('DAI38969',): 785,\n",
       " ('FRO32293',): 1702,\n",
       " ('FRO98729',): 664,\n",
       " ('DAI95741',): 878,\n",
       " ('GRO30386',): 1840,\n",
       " ('DAI35347',): 1060,\n",
       " ('SNA93860',): 1407,\n",
       " ('GRO59710',): 2004,\n",
       " ('GRO15017',): 1275,\n",
       " ('ELE66600',): 1713,\n",
       " ('DAI62779',): 6667,\n",
       " ('ELE14480',): 1147,\n",
       " ('SNA55762',): 1646,\n",
       " ('ELE91337',): 1289,\n",
       " ('ELE68605',): 697,\n",
       " ('GRO38983',): 839,\n",
       " ('SNA45677',): 2455,\n",
       " ('FRO78994',): 569,\n",
       " ('FRO40251',): 3881,\n",
       " ('FRO43226',): 583,\n",
       " ('DAI59508',): 707,\n",
       " ('ELE20398',): 690,\n",
       " ('GRO69543',): 882,\n",
       " ('GRO44993',): 1193,\n",
       " ('GRO61133',): 1321,\n",
       " ('GRO35122',): 852,\n",
       " ('GRO81087',): 1220,\n",
       " ('ELE53126',): 837,\n",
       " ('ELE37048',): 802,\n",
       " ('ELE62598',): 717,\n",
       " ('GRO21487',): 2115,\n",
       " ('DAI43223',): 1290,\n",
       " ('SNA59061',): 622,\n",
       " ('FRO92469',): 849,\n",
       " ('GRO38814',): 1352,\n",
       " ('ELE99737',): 1516,\n",
       " ('DAI83948',): 830,\n",
       " ('FRO35904',): 1436,\n",
       " ('SNA95666',): 804,\n",
       " ('ELE12845',): 562,\n",
       " ('FRO53271',): 1420,\n",
       " ('SNA90094',): 1390,\n",
       " ('SNA20554',): 777,\n",
       " ('ELE34057',): 1489,\n",
       " ('GRO24246',): 944,\n",
       " ('DAI31081',): 1261,\n",
       " ('DAI83733',): 1712,\n",
       " ('FRO80039',): 2233,\n",
       " ('SNA62128',): 1023,\n",
       " ('SNA71332',): 541,\n",
       " ('DAI42493',): 1001,\n",
       " ('GRO18367',): 581,\n",
       " ('GRO46854',): 1756,\n",
       " ('SNA40784',): 850,\n",
       " ('SNA96466',): 506,\n",
       " ('ELE92920',): 1197,\n",
       " ('FRO79022',): 751,\n",
       " ('FRO99783',): 764,\n",
       " ('DAI42083',): 522,\n",
       " ('GRO73461', 'SNA80324'): 562,\n",
       " ('DAI62779', 'FRO40251'): 1070,\n",
       " ('FRO40251', 'GRO85051'): 1213,\n",
       " ('ELE17451', 'ELE32164'): 511,\n",
       " ('ELE17451', 'SNA80324'): 597,\n",
       " ('DAI75645', 'GRO73461'): 712,\n",
       " ('DAI62779', 'ELE17451'): 1592,\n",
       " ('DAI62779', 'ELE26917'): 650,\n",
       " ('ELE17451', 'GRO73461'): 580,\n",
       " ('DAI43223', 'ELE32164'): 711,\n",
       " ('DAI43223', 'GRO59710'): 512,\n",
       " ('FRO40251', 'GRO73461'): 882,\n",
       " ('DAI62779', 'DAI75645'): 882,\n",
       " ('ELE17451', 'FRO40251'): 697,\n",
       " ('ELE32164', 'GRO59710'): 911,\n",
       " ('GRO21487', 'GRO73461'): 631,\n",
       " ('DAI62779', 'FRO80039'): 550,\n",
       " ('DAI55148', 'DAI62779'): 526,\n",
       " ('DAI85309', 'ELE99737'): 659,\n",
       " ('DAI62779', 'SNA18336'): 506,\n",
       " ('DAI62779', 'GRO73461'): 1139,\n",
       " ('DAI75645', 'ELE17451'): 547,\n",
       " ('DAI62779', 'DAI83733'): 586,\n",
       " ('DAI62779', 'ELE32164'): 832,\n",
       " ('DAI62779', 'SNA80324'): 923,\n",
       " ('DAI62779', 'GRO59710'): 561,\n",
       " ('DAI62779', 'DAI85309'): 918,\n",
       " ('FRO40251', 'SNA80324'): 1412,\n",
       " ('DAI75645', 'FRO40251'): 1254,\n",
       " ('DAI62779', 'SNA55762'): 593,\n",
       " ('DAI62779', 'SNA45677'): 604,\n",
       " ('DAI62779', 'ELE92920'): 877,\n",
       " ('DAI62779', 'GRO30386'): 709,\n",
       " ('DAI75645', 'SNA80324'): 1130,\n",
       " ('DAI62779', 'SNA93860'): 537,\n",
       " ('FRO40251', 'FRO92469'): 835,\n",
       " ('DAI62779', 'GRO71621'): 595,\n",
       " ('DAI75645', 'FRO40251', 'SNA80324'): 550}"
      ]
     },
     "execution_count": 84,
     "metadata": {},
     "output_type": "execute_result"
    }
   ],
   "source": [
    "frequent_items_count"
   ]
  },
  {
   "cell_type": "code",
   "execution_count": 86,
   "metadata": {},
   "outputs": [
    {
     "name": "stderr",
     "output_type": "stream",
     "text": [
      "[Stage 119:===================================================> (250 + 4) / 256]\r"
     ]
    },
    {
     "name": "stdout",
     "output_type": "stream",
     "text": [
      "{(('DAI75645',), ('FRO40251', 'SNA80324')): 0.2010233918128655, (('DAI75645', 'FRO40251'), ('SNA80324',)): 0.43859649122807015, (('DAI75645',), ('SNA80324', 'FRO40251')): 0.2010233918128655, (('DAI75645', 'SNA80324'), ('FRO40251',)): 0.48672566371681414, (('FRO40251',), ('DAI75645', 'SNA80324')): 0.14171605256377223, (('FRO40251',), ('SNA80324', 'DAI75645')): 0.14171605256377223, (('FRO40251', 'SNA80324'), ('DAI75645',)): 0.3895184135977337, (('SNA80324',), ('DAI75645', 'FRO40251')): 0.18068331143232588, (('SNA80324',), ('FRO40251', 'DAI75645')): 0.18068331143232588}\n"
     ]
    },
    {
     "name": "stderr",
     "output_type": "stream",
     "text": [
      "                                                                                \r"
     ]
    }
   ],
   "source": [
    "\n",
    "print(three_frequent_items_count_rdd.flatMap(generate_rules_and_confidences).collectAsMap())\n",
    "\n",
    "# output \n",
    "## [(rule ,confidence),(rule2 ,confidence) ,...]\n"
   ]
  }
 ],
 "metadata": {
  "kernelspec": {
   "display_name": "Python 3.10.6 64-bit",
   "language": "python",
   "name": "python3"
  },
  "language_info": {
   "codemirror_mode": {
    "name": "ipython",
    "version": 3
   },
   "file_extension": ".py",
   "mimetype": "text/x-python",
   "name": "python",
   "nbconvert_exporter": "python",
   "pygments_lexer": "ipython3",
   "version": "3.10.6"
  },
  "orig_nbformat": 4,
  "vscode": {
   "interpreter": {
    "hash": "916dbcbb3f70747c44a77c7bcd40155683ae19c65e1c03b4aa3499c5328201f1"
   }
  }
 },
 "nbformat": 4,
 "nbformat_minor": 2
}
